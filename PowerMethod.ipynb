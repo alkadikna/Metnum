{
  "nbformat": 4,
  "nbformat_minor": 0,
  "metadata": {
    "colab": {
      "provenance": [],
      "authorship_tag": "ABX9TyM49tUgWANVL6bOeiQqoEby",
      "include_colab_link": true
    },
    "kernelspec": {
      "name": "python3",
      "display_name": "Python 3"
    },
    "language_info": {
      "name": "python"
    }
  },
  "cells": [
    {
      "cell_type": "markdown",
      "metadata": {
        "id": "view-in-github",
        "colab_type": "text"
      },
      "source": [
        "<a href=\"https://colab.research.google.com/github/alkadikna/Metnum/blob/main/PowerMethod.ipynb\" target=\"_parent\"><img src=\"https://colab.research.google.com/assets/colab-badge.svg\" alt=\"Open In Colab\"/></a>"
      ]
    },
    {
      "cell_type": "code",
      "execution_count": 49,
      "metadata": {
        "colab": {
          "base_uri": "https://localhost:8080/",
          "height": 1000
        },
        "id": "xzQEfUSZwwnF",
        "outputId": "eed6bc6b-6fa6-4ae8-e19d-cefe35b413bb"
      },
      "outputs": [
        {
          "output_type": "stream",
          "name": "stdout",
          "text": [
            "Enter the number of rows:2\n",
            "Enter the number of columns:2\n",
            "Enter the matrix entries rowwise:\n",
            "5\n",
            "-2\n",
            "7\n",
            "-4\n",
            "Enter the x0 entries rowwise:\n",
            "1\n",
            "3\n",
            "Enter how many iteration:28\n",
            "Matriks:\n",
            "\n"
          ]
        },
        {
          "output_type": "display_data",
          "data": {
            "text/plain": [
              "<IPython.core.display.Math object>"
            ],
            "text/latex": "$\\displaystyle \\begin{bmatrix}5&-2\\\\7&-4\\\\\\end{bmatrix}$"
          },
          "metadata": {}
        },
        {
          "output_type": "stream",
          "name": "stdout",
          "text": [
            "\n",
            "x0:\n",
            "\n"
          ]
        },
        {
          "output_type": "display_data",
          "data": {
            "text/plain": [
              "<IPython.core.display.Math object>"
            ],
            "text/latex": "$\\displaystyle \\begin{bmatrix}1\\\\3\\\\\\end{bmatrix}$"
          },
          "metadata": {}
        },
        {
          "output_type": "stream",
          "name": "stdout",
          "text": [
            "\n",
            "Iteration 1\n",
            "Vector x0:\n"
          ]
        },
        {
          "output_type": "display_data",
          "data": {
            "text/plain": [
              "<IPython.core.display.Math object>"
            ],
            "text/latex": "$\\displaystyle \\begin{bmatrix}1\\\\3\\\\\\end{bmatrix}$"
          },
          "metadata": {}
        },
        {
          "output_type": "stream",
          "name": "stdout",
          "text": [
            "\n",
            "Ax0 (Matrix*Vector):\n"
          ]
        },
        {
          "output_type": "display_data",
          "data": {
            "text/plain": [
              "<IPython.core.display.Math object>"
            ],
            "text/latex": "$\\displaystyle \\begin{bmatrix}-1\\\\-5\\\\\\end{bmatrix}$"
          },
          "metadata": {}
        },
        {
          "output_type": "stream",
          "name": "stdout",
          "text": [
            "\n",
            "y1 (Normalized vector):\n"
          ]
        },
        {
          "output_type": "display_data",
          "data": {
            "text/plain": [
              "<IPython.core.display.Math object>"
            ],
            "text/latex": "$\\displaystyle \\begin{bmatrix}-0.2\\\\-1.0\\\\\\end{bmatrix}$"
          },
          "metadata": {}
        },
        {
          "output_type": "stream",
          "name": "stdout",
          "text": [
            "\n",
            "d: 5\n",
            "\n",
            "\n",
            "Iteration 2\n",
            "Vector x1:\n"
          ]
        },
        {
          "output_type": "display_data",
          "data": {
            "text/plain": [
              "<IPython.core.display.Math object>"
            ],
            "text/latex": "$\\displaystyle \\begin{bmatrix}-0.2\\\\-1.0\\\\\\end{bmatrix}$"
          },
          "metadata": {}
        },
        {
          "output_type": "stream",
          "name": "stdout",
          "text": [
            "\n",
            "Ax1 (Matrix*Vector):\n"
          ]
        },
        {
          "output_type": "display_data",
          "data": {
            "text/plain": [
              "<IPython.core.display.Math object>"
            ],
            "text/latex": "$\\displaystyle \\begin{bmatrix}1.0\\\\2.6\\\\\\end{bmatrix}$"
          },
          "metadata": {}
        },
        {
          "output_type": "stream",
          "name": "stdout",
          "text": [
            "\n",
            "y2 (Normalized vector):\n"
          ]
        },
        {
          "output_type": "display_data",
          "data": {
            "text/plain": [
              "<IPython.core.display.Math object>"
            ],
            "text/latex": "$\\displaystyle \\begin{bmatrix}0.3846153846153846\\\\1.0\\\\\\end{bmatrix}$"
          },
          "metadata": {}
        },
        {
          "output_type": "stream",
          "name": "stdout",
          "text": [
            "\n",
            "d: 2.6\n",
            "\n",
            "\n",
            "Iteration 3\n",
            "Vector x2:\n"
          ]
        },
        {
          "output_type": "display_data",
          "data": {
            "text/plain": [
              "<IPython.core.display.Math object>"
            ],
            "text/latex": "$\\displaystyle \\begin{bmatrix}0.3846153846153846\\\\1.0\\\\\\end{bmatrix}$"
          },
          "metadata": {}
        },
        {
          "output_type": "stream",
          "name": "stdout",
          "text": [
            "\n",
            "Ax2 (Matrix*Vector):\n"
          ]
        },
        {
          "output_type": "display_data",
          "data": {
            "text/plain": [
              "<IPython.core.display.Math object>"
            ],
            "text/latex": "$\\displaystyle \\begin{bmatrix}-0.0769230769230771\\\\-1.307692307692308\\\\\\end{bmatrix}$"
          },
          "metadata": {}
        },
        {
          "output_type": "stream",
          "name": "stdout",
          "text": [
            "\n",
            "y3 (Normalized vector):\n"
          ]
        },
        {
          "output_type": "display_data",
          "data": {
            "text/plain": [
              "<IPython.core.display.Math object>"
            ],
            "text/latex": "$\\displaystyle \\begin{bmatrix}-0.05882352941176482\\\\-1.0\\\\\\end{bmatrix}$"
          },
          "metadata": {}
        },
        {
          "output_type": "stream",
          "name": "stdout",
          "text": [
            "\n",
            "d: 1.307692307692308\n",
            "\n",
            "\n",
            "Iteration 4\n",
            "Vector x3:\n"
          ]
        },
        {
          "output_type": "display_data",
          "data": {
            "text/plain": [
              "<IPython.core.display.Math object>"
            ],
            "text/latex": "$\\displaystyle \\begin{bmatrix}-0.05882352941176482\\\\-1.0\\\\\\end{bmatrix}$"
          },
          "metadata": {}
        },
        {
          "output_type": "stream",
          "name": "stdout",
          "text": [
            "\n",
            "Ax3 (Matrix*Vector):\n"
          ]
        },
        {
          "output_type": "display_data",
          "data": {
            "text/plain": [
              "<IPython.core.display.Math object>"
            ],
            "text/latex": "$\\displaystyle \\begin{bmatrix}1.705882352941176\\\\3.5882352941176463\\\\\\end{bmatrix}$"
          },
          "metadata": {}
        },
        {
          "output_type": "stream",
          "name": "stdout",
          "text": [
            "\n",
            "y4 (Normalized vector):\n"
          ]
        },
        {
          "output_type": "display_data",
          "data": {
            "text/plain": [
              "<IPython.core.display.Math object>"
            ],
            "text/latex": "$\\displaystyle \\begin{bmatrix}0.47540983606557374\\\\1.0\\\\\\end{bmatrix}$"
          },
          "metadata": {}
        },
        {
          "output_type": "stream",
          "name": "stdout",
          "text": [
            "\n",
            "d: 3.5882352941176463\n",
            "\n",
            "\n",
            "Iteration 5\n",
            "Vector x4:\n"
          ]
        },
        {
          "output_type": "display_data",
          "data": {
            "text/plain": [
              "<IPython.core.display.Math object>"
            ],
            "text/latex": "$\\displaystyle \\begin{bmatrix}0.47540983606557374\\\\1.0\\\\\\end{bmatrix}$"
          },
          "metadata": {}
        },
        {
          "output_type": "stream",
          "name": "stdout",
          "text": [
            "\n",
            "Ax4 (Matrix*Vector):\n"
          ]
        },
        {
          "output_type": "display_data",
          "data": {
            "text/plain": [
              "<IPython.core.display.Math object>"
            ],
            "text/latex": "$\\displaystyle \\begin{bmatrix}0.3770491803278687\\\\-0.6721311475409838\\\\\\end{bmatrix}$"
          },
          "metadata": {}
        },
        {
          "output_type": "stream",
          "name": "stdout",
          "text": [
            "\n",
            "y5 (Normalized vector):\n"
          ]
        },
        {
          "output_type": "display_data",
          "data": {
            "text/plain": [
              "<IPython.core.display.Math object>"
            ],
            "text/latex": "$\\displaystyle \\begin{bmatrix}0.5609756097560972\\\\-1.0\\\\\\end{bmatrix}$"
          },
          "metadata": {}
        },
        {
          "output_type": "stream",
          "name": "stdout",
          "text": [
            "\n",
            "d: 0.6721311475409838\n",
            "\n",
            "\n",
            "Iteration 6\n",
            "Vector x5:\n"
          ]
        },
        {
          "output_type": "display_data",
          "data": {
            "text/plain": [
              "<IPython.core.display.Math object>"
            ],
            "text/latex": "$\\displaystyle \\begin{bmatrix}0.5609756097560972\\\\-1.0\\\\\\end{bmatrix}$"
          },
          "metadata": {}
        },
        {
          "output_type": "stream",
          "name": "stdout",
          "text": [
            "\n",
            "Ax5 (Matrix*Vector):\n"
          ]
        },
        {
          "output_type": "display_data",
          "data": {
            "text/plain": [
              "<IPython.core.display.Math object>"
            ],
            "text/latex": "$\\displaystyle \\begin{bmatrix}4.804878048780486\\\\7.92682926829268\\\\\\end{bmatrix}$"
          },
          "metadata": {}
        },
        {
          "output_type": "stream",
          "name": "stdout",
          "text": [
            "\n",
            "y6 (Normalized vector):\n"
          ]
        },
        {
          "output_type": "display_data",
          "data": {
            "text/plain": [
              "<IPython.core.display.Math object>"
            ],
            "text/latex": "$\\displaystyle \\begin{bmatrix}0.6061538461538462\\\\1.0\\\\\\end{bmatrix}$"
          },
          "metadata": {}
        },
        {
          "output_type": "stream",
          "name": "stdout",
          "text": [
            "\n",
            "d: 7.92682926829268\n",
            "\n",
            "\n",
            "Iteration 7\n",
            "Vector x6:\n"
          ]
        },
        {
          "output_type": "display_data",
          "data": {
            "text/plain": [
              "<IPython.core.display.Math object>"
            ],
            "text/latex": "$\\displaystyle \\begin{bmatrix}0.6061538461538462\\\\1.0\\\\\\end{bmatrix}$"
          },
          "metadata": {}
        },
        {
          "output_type": "stream",
          "name": "stdout",
          "text": [
            "\n",
            "Ax6 (Matrix*Vector):\n"
          ]
        },
        {
          "output_type": "display_data",
          "data": {
            "text/plain": [
              "<IPython.core.display.Math object>"
            ],
            "text/latex": "$\\displaystyle \\begin{bmatrix}1.0307692307692307\\\\0.24307692307692308\\\\\\end{bmatrix}$"
          },
          "metadata": {}
        },
        {
          "output_type": "stream",
          "name": "stdout",
          "text": [
            "\n",
            "y7 (Normalized vector):\n"
          ]
        },
        {
          "output_type": "display_data",
          "data": {
            "text/plain": [
              "<IPython.core.display.Math object>"
            ],
            "text/latex": "$\\displaystyle \\begin{bmatrix}1.0\\\\0.23582089552238808\\\\\\end{bmatrix}$"
          },
          "metadata": {}
        },
        {
          "output_type": "stream",
          "name": "stdout",
          "text": [
            "\n",
            "d: 1.0307692307692307\n",
            "\n",
            "\n",
            "Iteration 8\n",
            "Vector x7:\n"
          ]
        },
        {
          "output_type": "display_data",
          "data": {
            "text/plain": [
              "<IPython.core.display.Math object>"
            ],
            "text/latex": "$\\displaystyle \\begin{bmatrix}1.0\\\\0.23582089552238808\\\\\\end{bmatrix}$"
          },
          "metadata": {}
        },
        {
          "output_type": "stream",
          "name": "stdout",
          "text": [
            "\n",
            "Ax7 (Matrix*Vector):\n"
          ]
        },
        {
          "output_type": "display_data",
          "data": {
            "text/plain": [
              "<IPython.core.display.Math object>"
            ],
            "text/latex": "$\\displaystyle \\begin{bmatrix}4.528358208955224\\\\6.056716417910447\\\\\\end{bmatrix}$"
          },
          "metadata": {}
        },
        {
          "output_type": "stream",
          "name": "stdout",
          "text": [
            "\n",
            "y8 (Normalized vector):\n"
          ]
        },
        {
          "output_type": "display_data",
          "data": {
            "text/plain": [
              "<IPython.core.display.Math object>"
            ],
            "text/latex": "$\\displaystyle \\begin{bmatrix}0.747658945293248\\\\1.0\\\\\\end{bmatrix}$"
          },
          "metadata": {}
        },
        {
          "output_type": "stream",
          "name": "stdout",
          "text": [
            "\n",
            "d: 6.056716417910447\n",
            "\n",
            "\n",
            "Iteration 9\n",
            "Vector x8:\n"
          ]
        },
        {
          "output_type": "display_data",
          "data": {
            "text/plain": [
              "<IPython.core.display.Math object>"
            ],
            "text/latex": "$\\displaystyle \\begin{bmatrix}0.747658945293248\\\\1.0\\\\\\end{bmatrix}$"
          },
          "metadata": {}
        },
        {
          "output_type": "stream",
          "name": "stdout",
          "text": [
            "\n",
            "Ax8 (Matrix*Vector):\n"
          ]
        },
        {
          "output_type": "display_data",
          "data": {
            "text/plain": [
              "<IPython.core.display.Math object>"
            ],
            "text/latex": "$\\displaystyle \\begin{bmatrix}1.7382947264662398\\\\1.2336126170527355\\\\\\end{bmatrix}$"
          },
          "metadata": {}
        },
        {
          "output_type": "stream",
          "name": "stdout",
          "text": [
            "\n",
            "y9 (Normalized vector):\n"
          ]
        },
        {
          "output_type": "display_data",
          "data": {
            "text/plain": [
              "<IPython.core.display.Math object>"
            ],
            "text/latex": "$\\displaystyle \\begin{bmatrix}1.0\\\\0.7096682733201021\\\\\\end{bmatrix}$"
          },
          "metadata": {}
        },
        {
          "output_type": "stream",
          "name": "stdout",
          "text": [
            "\n",
            "d: 1.7382947264662398\n",
            "\n",
            "\n",
            "Iteration 10\n",
            "Vector x9:\n"
          ]
        },
        {
          "output_type": "display_data",
          "data": {
            "text/plain": [
              "<IPython.core.display.Math object>"
            ],
            "text/latex": "$\\displaystyle \\begin{bmatrix}1.0\\\\0.7096682733201021\\\\\\end{bmatrix}$"
          },
          "metadata": {}
        },
        {
          "output_type": "stream",
          "name": "stdout",
          "text": [
            "\n",
            "Ax9 (Matrix*Vector):\n"
          ]
        },
        {
          "output_type": "display_data",
          "data": {
            "text/plain": [
              "<IPython.core.display.Math object>"
            ],
            "text/latex": "$\\displaystyle \\begin{bmatrix}3.580663453359796\\\\4.161326906719592\\\\\\end{bmatrix}$"
          },
          "metadata": {}
        },
        {
          "output_type": "stream",
          "name": "stdout",
          "text": [
            "\n",
            "y10 (Normalized vector):\n"
          ]
        },
        {
          "output_type": "display_data",
          "data": {
            "text/plain": [
              "<IPython.core.display.Math object>"
            ],
            "text/latex": "$\\displaystyle \\begin{bmatrix}0.8604619472644274\\\\1.0\\\\\\end{bmatrix}$"
          },
          "metadata": {}
        },
        {
          "output_type": "stream",
          "name": "stdout",
          "text": [
            "\n",
            "d: 4.161326906719592\n",
            "\n",
            "\n",
            "Iteration 11\n",
            "Vector x10:\n"
          ]
        },
        {
          "output_type": "display_data",
          "data": {
            "text/plain": [
              "<IPython.core.display.Math object>"
            ],
            "text/latex": "$\\displaystyle \\begin{bmatrix}0.8604619472644274\\\\1.0\\\\\\end{bmatrix}$"
          },
          "metadata": {}
        },
        {
          "output_type": "stream",
          "name": "stdout",
          "text": [
            "\n",
            "Ax10 (Matrix*Vector):\n"
          ]
        },
        {
          "output_type": "display_data",
          "data": {
            "text/plain": [
              "<IPython.core.display.Math object>"
            ],
            "text/latex": "$\\displaystyle \\begin{bmatrix}2.3023097363221368\\\\2.0232336308509917\\\\\\end{bmatrix}$"
          },
          "metadata": {}
        },
        {
          "output_type": "stream",
          "name": "stdout",
          "text": [
            "\n",
            "y11 (Normalized vector):\n"
          ]
        },
        {
          "output_type": "display_data",
          "data": {
            "text/plain": [
              "<IPython.core.display.Math object>"
            ],
            "text/latex": "$\\displaystyle \\begin{bmatrix}1.0\\\\0.8787842916752983\\\\\\end{bmatrix}$"
          },
          "metadata": {}
        },
        {
          "output_type": "stream",
          "name": "stdout",
          "text": [
            "\n",
            "d: 2.3023097363221368\n",
            "\n",
            "\n",
            "Iteration 12\n",
            "Vector x11:\n"
          ]
        },
        {
          "output_type": "display_data",
          "data": {
            "text/plain": [
              "<IPython.core.display.Math object>"
            ],
            "text/latex": "$\\displaystyle \\begin{bmatrix}1.0\\\\0.8787842916752983\\\\\\end{bmatrix}$"
          },
          "metadata": {}
        },
        {
          "output_type": "stream",
          "name": "stdout",
          "text": [
            "\n",
            "Ax11 (Matrix*Vector):\n"
          ]
        },
        {
          "output_type": "display_data",
          "data": {
            "text/plain": [
              "<IPython.core.display.Math object>"
            ],
            "text/latex": "$\\displaystyle \\begin{bmatrix}3.2424314166494037\\\\3.484862833298807\\\\\\end{bmatrix}$"
          },
          "metadata": {}
        },
        {
          "output_type": "stream",
          "name": "stdout",
          "text": [
            "\n",
            "y12 (Normalized vector):\n"
          ]
        },
        {
          "output_type": "display_data",
          "data": {
            "text/plain": [
              "<IPython.core.display.Math object>"
            ],
            "text/latex": "$\\displaystyle \\begin{bmatrix}0.9304330103518264\\\\1.0\\\\\\end{bmatrix}$"
          },
          "metadata": {}
        },
        {
          "output_type": "stream",
          "name": "stdout",
          "text": [
            "\n",
            "d: 3.484862833298807\n",
            "\n",
            "\n",
            "Iteration 13\n",
            "Vector x12:\n"
          ]
        },
        {
          "output_type": "display_data",
          "data": {
            "text/plain": [
              "<IPython.core.display.Math object>"
            ],
            "text/latex": "$\\displaystyle \\begin{bmatrix}0.9304330103518264\\\\1.0\\\\\\end{bmatrix}$"
          },
          "metadata": {}
        },
        {
          "output_type": "stream",
          "name": "stdout",
          "text": [
            "\n",
            "Ax12 (Matrix*Vector):\n"
          ]
        },
        {
          "output_type": "display_data",
          "data": {
            "text/plain": [
              "<IPython.core.display.Math object>"
            ],
            "text/latex": "$\\displaystyle \\begin{bmatrix}2.6521650517591318\\\\2.5130310724627845\\\\\\end{bmatrix}$"
          },
          "metadata": {}
        },
        {
          "output_type": "stream",
          "name": "stdout",
          "text": [
            "\n",
            "y13 (Normalized vector):\n"
          ]
        },
        {
          "output_type": "display_data",
          "data": {
            "text/plain": [
              "<IPython.core.display.Math object>"
            ],
            "text/latex": "$\\displaystyle \\begin{bmatrix}1.0\\\\0.9475394718725887\\\\\\end{bmatrix}$"
          },
          "metadata": {}
        },
        {
          "output_type": "stream",
          "name": "stdout",
          "text": [
            "\n",
            "d: 2.6521650517591318\n",
            "\n",
            "\n",
            "Iteration 14\n",
            "Vector x13:\n"
          ]
        },
        {
          "output_type": "display_data",
          "data": {
            "text/plain": [
              "<IPython.core.display.Math object>"
            ],
            "text/latex": "$\\displaystyle \\begin{bmatrix}1.0\\\\0.9475394718725887\\\\\\end{bmatrix}$"
          },
          "metadata": {}
        },
        {
          "output_type": "stream",
          "name": "stdout",
          "text": [
            "\n",
            "Ax13 (Matrix*Vector):\n"
          ]
        },
        {
          "output_type": "display_data",
          "data": {
            "text/plain": [
              "<IPython.core.display.Math object>"
            ],
            "text/latex": "$\\displaystyle \\begin{bmatrix}3.1049210562548226\\\\3.2098421125096452\\\\\\end{bmatrix}$"
          },
          "metadata": {}
        },
        {
          "output_type": "stream",
          "name": "stdout",
          "text": [
            "\n",
            "y14 (Normalized vector):\n"
          ]
        },
        {
          "output_type": "display_data",
          "data": {
            "text/plain": [
              "<IPython.core.display.Math object>"
            ],
            "text/latex": "$\\displaystyle \\begin{bmatrix}0.9673127049315241\\\\1.0\\\\\\end{bmatrix}$"
          },
          "metadata": {}
        },
        {
          "output_type": "stream",
          "name": "stdout",
          "text": [
            "\n",
            "d: 3.2098421125096452\n",
            "\n",
            "\n",
            "Iteration 15\n",
            "Vector x14:\n"
          ]
        },
        {
          "output_type": "display_data",
          "data": {
            "text/plain": [
              "<IPython.core.display.Math object>"
            ],
            "text/latex": "$\\displaystyle \\begin{bmatrix}0.9673127049315241\\\\1.0\\\\\\end{bmatrix}$"
          },
          "metadata": {}
        },
        {
          "output_type": "stream",
          "name": "stdout",
          "text": [
            "\n",
            "Ax14 (Matrix*Vector):\n"
          ]
        },
        {
          "output_type": "display_data",
          "data": {
            "text/plain": [
              "<IPython.core.display.Math object>"
            ],
            "text/latex": "$\\displaystyle \\begin{bmatrix}2.8365635246576204\\\\2.771188934520669\\\\\\end{bmatrix}$"
          },
          "metadata": {}
        },
        {
          "output_type": "stream",
          "name": "stdout",
          "text": [
            "\n",
            "y15 (Normalized vector):\n"
          ]
        },
        {
          "output_type": "display_data",
          "data": {
            "text/plain": [
              "<IPython.core.display.Math object>"
            ],
            "text/latex": "$\\displaystyle \\begin{bmatrix}1.0\\\\0.9769528905068882\\\\\\end{bmatrix}$"
          },
          "metadata": {}
        },
        {
          "output_type": "stream",
          "name": "stdout",
          "text": [
            "\n",
            "d: 2.8365635246576204\n",
            "\n",
            "\n",
            "Iteration 16\n",
            "Vector x15:\n"
          ]
        },
        {
          "output_type": "display_data",
          "data": {
            "text/plain": [
              "<IPython.core.display.Math object>"
            ],
            "text/latex": "$\\displaystyle \\begin{bmatrix}1.0\\\\0.9769528905068882\\\\\\end{bmatrix}$"
          },
          "metadata": {}
        },
        {
          "output_type": "stream",
          "name": "stdout",
          "text": [
            "\n",
            "Ax15 (Matrix*Vector):\n"
          ]
        },
        {
          "output_type": "display_data",
          "data": {
            "text/plain": [
              "<IPython.core.display.Math object>"
            ],
            "text/latex": "$\\displaystyle \\begin{bmatrix}3.046094218986224\\\\3.0921884379724474\\\\\\end{bmatrix}$"
          },
          "metadata": {}
        },
        {
          "output_type": "stream",
          "name": "stdout",
          "text": [
            "\n",
            "y16 (Normalized vector):\n"
          ]
        },
        {
          "output_type": "display_data",
          "data": {
            "text/plain": [
              "<IPython.core.display.Math object>"
            ],
            "text/latex": "$\\displaystyle \\begin{bmatrix}0.9850933344099665\\\\1.0\\\\\\end{bmatrix}$"
          },
          "metadata": {}
        },
        {
          "output_type": "stream",
          "name": "stdout",
          "text": [
            "\n",
            "d: 3.0921884379724474\n",
            "\n",
            "\n",
            "Iteration 17\n",
            "Vector x16:\n"
          ]
        },
        {
          "output_type": "display_data",
          "data": {
            "text/plain": [
              "<IPython.core.display.Math object>"
            ],
            "text/latex": "$\\displaystyle \\begin{bmatrix}0.9850933344099665\\\\1.0\\\\\\end{bmatrix}$"
          },
          "metadata": {}
        },
        {
          "output_type": "stream",
          "name": "stdout",
          "text": [
            "\n",
            "Ax16 (Matrix*Vector):\n"
          ]
        },
        {
          "output_type": "display_data",
          "data": {
            "text/plain": [
              "<IPython.core.display.Math object>"
            ],
            "text/latex": "$\\displaystyle \\begin{bmatrix}2.9254666720498324\\\\2.8956533408697656\\\\\\end{bmatrix}$"
          },
          "metadata": {}
        },
        {
          "output_type": "stream",
          "name": "stdout",
          "text": [
            "\n",
            "y17 (Normalized vector):\n"
          ]
        },
        {
          "output_type": "display_data",
          "data": {
            "text/plain": [
              "<IPython.core.display.Math object>"
            ],
            "text/latex": "$\\displaystyle \\begin{bmatrix}1.0\\\\0.9898090340714164\\\\\\end{bmatrix}$"
          },
          "metadata": {}
        },
        {
          "output_type": "stream",
          "name": "stdout",
          "text": [
            "\n",
            "d: 2.9254666720498324\n",
            "\n",
            "\n",
            "Iteration 18\n",
            "Vector x17:\n"
          ]
        },
        {
          "output_type": "display_data",
          "data": {
            "text/plain": [
              "<IPython.core.display.Math object>"
            ],
            "text/latex": "$\\displaystyle \\begin{bmatrix}1.0\\\\0.9898090340714164\\\\\\end{bmatrix}$"
          },
          "metadata": {}
        },
        {
          "output_type": "stream",
          "name": "stdout",
          "text": [
            "\n",
            "Ax17 (Matrix*Vector):\n"
          ]
        },
        {
          "output_type": "display_data",
          "data": {
            "text/plain": [
              "<IPython.core.display.Math object>"
            ],
            "text/latex": "$\\displaystyle \\begin{bmatrix}3.020381931857167\\\\3.0407638637143344\\\\\\end{bmatrix}$"
          },
          "metadata": {}
        },
        {
          "output_type": "stream",
          "name": "stdout",
          "text": [
            "\n",
            "y18 (Normalized vector):\n"
          ]
        },
        {
          "output_type": "display_data",
          "data": {
            "text/plain": [
              "<IPython.core.display.Math object>"
            ],
            "text/latex": "$\\displaystyle \\begin{bmatrix}0.9932971013960056\\\\1.0\\\\\\end{bmatrix}$"
          },
          "metadata": {}
        },
        {
          "output_type": "stream",
          "name": "stdout",
          "text": [
            "\n",
            "d: 3.0407638637143344\n",
            "\n",
            "\n",
            "Iteration 19\n",
            "Vector x18:\n"
          ]
        },
        {
          "output_type": "display_data",
          "data": {
            "text/plain": [
              "<IPython.core.display.Math object>"
            ],
            "text/latex": "$\\displaystyle \\begin{bmatrix}0.9932971013960056\\\\1.0\\\\\\end{bmatrix}$"
          },
          "metadata": {}
        },
        {
          "output_type": "stream",
          "name": "stdout",
          "text": [
            "\n",
            "Ax18 (Matrix*Vector):\n"
          ]
        },
        {
          "output_type": "display_data",
          "data": {
            "text/plain": [
              "<IPython.core.display.Math object>"
            ],
            "text/latex": "$\\displaystyle \\begin{bmatrix}2.9664855069800278\\\\2.953079709772039\\\\\\end{bmatrix}$"
          },
          "metadata": {}
        },
        {
          "output_type": "stream",
          "name": "stdout",
          "text": [
            "\n",
            "y19 (Normalized vector):\n"
          ]
        },
        {
          "output_type": "display_data",
          "data": {
            "text/plain": [
              "<IPython.core.display.Math object>"
            ],
            "text/latex": "$\\displaystyle \\begin{bmatrix}1.0\\\\0.9954809159942143\\\\\\end{bmatrix}$"
          },
          "metadata": {}
        },
        {
          "output_type": "stream",
          "name": "stdout",
          "text": [
            "\n",
            "d: 2.9664855069800278\n",
            "\n",
            "\n",
            "Iteration 20\n",
            "Vector x19:\n"
          ]
        },
        {
          "output_type": "display_data",
          "data": {
            "text/plain": [
              "<IPython.core.display.Math object>"
            ],
            "text/latex": "$\\displaystyle \\begin{bmatrix}1.0\\\\0.9954809159942143\\\\\\end{bmatrix}$"
          },
          "metadata": {}
        },
        {
          "output_type": "stream",
          "name": "stdout",
          "text": [
            "\n",
            "Ax19 (Matrix*Vector):\n"
          ]
        },
        {
          "output_type": "display_data",
          "data": {
            "text/plain": [
              "<IPython.core.display.Math object>"
            ],
            "text/latex": "$\\displaystyle \\begin{bmatrix}3.009038168011571\\\\3.018076336023143\\\\\\end{bmatrix}$"
          },
          "metadata": {}
        },
        {
          "output_type": "stream",
          "name": "stdout",
          "text": [
            "\n",
            "y20 (Normalized vector):\n"
          ]
        },
        {
          "output_type": "display_data",
          "data": {
            "text/plain": [
              "<IPython.core.display.Math object>"
            ],
            "text/latex": "$\\displaystyle \\begin{bmatrix}0.9970053216004864\\\\1.0\\\\\\end{bmatrix}$"
          },
          "metadata": {}
        },
        {
          "output_type": "stream",
          "name": "stdout",
          "text": [
            "\n",
            "d: 3.018076336023143\n",
            "\n",
            "\n",
            "Iteration 21\n",
            "Vector x20:\n"
          ]
        },
        {
          "output_type": "display_data",
          "data": {
            "text/plain": [
              "<IPython.core.display.Math object>"
            ],
            "text/latex": "$\\displaystyle \\begin{bmatrix}0.9970053216004864\\\\1.0\\\\\\end{bmatrix}$"
          },
          "metadata": {}
        },
        {
          "output_type": "stream",
          "name": "stdout",
          "text": [
            "\n",
            "Ax20 (Matrix*Vector):\n"
          ]
        },
        {
          "output_type": "display_data",
          "data": {
            "text/plain": [
              "<IPython.core.display.Math object>"
            ],
            "text/latex": "$\\displaystyle \\begin{bmatrix}2.985026608002432\\\\2.9790372512034047\\\\\\end{bmatrix}$"
          },
          "metadata": {}
        },
        {
          "output_type": "stream",
          "name": "stdout",
          "text": [
            "\n",
            "y21 (Normalized vector):\n"
          ]
        },
        {
          "output_type": "display_data",
          "data": {
            "text/plain": [
              "<IPython.core.display.Math object>"
            ],
            "text/latex": "$\\displaystyle \\begin{bmatrix}1.0\\\\0.9979935331956604\\\\\\end{bmatrix}$"
          },
          "metadata": {}
        },
        {
          "output_type": "stream",
          "name": "stdout",
          "text": [
            "\n",
            "d: 2.985026608002432\n",
            "\n",
            "\n",
            "Iteration 22\n",
            "Vector x21:\n"
          ]
        },
        {
          "output_type": "display_data",
          "data": {
            "text/plain": [
              "<IPython.core.display.Math object>"
            ],
            "text/latex": "$\\displaystyle \\begin{bmatrix}1.0\\\\0.9979935331956604\\\\\\end{bmatrix}$"
          },
          "metadata": {}
        },
        {
          "output_type": "stream",
          "name": "stdout",
          "text": [
            "\n",
            "Ax21 (Matrix*Vector):\n"
          ]
        },
        {
          "output_type": "display_data",
          "data": {
            "text/plain": [
              "<IPython.core.display.Math object>"
            ],
            "text/latex": "$\\displaystyle \\begin{bmatrix}3.004012933608679\\\\3.0080258672173583\\\\\\end{bmatrix}$"
          },
          "metadata": {}
        },
        {
          "output_type": "stream",
          "name": "stdout",
          "text": [
            "\n",
            "y22 (Normalized vector):\n"
          ]
        },
        {
          "output_type": "display_data",
          "data": {
            "text/plain": [
              "<IPython.core.display.Math object>"
            ],
            "text/latex": "$\\displaystyle \\begin{bmatrix}0.9986659245013769\\\\1.0\\\\\\end{bmatrix}$"
          },
          "metadata": {}
        },
        {
          "output_type": "stream",
          "name": "stdout",
          "text": [
            "\n",
            "d: 3.0080258672173583\n",
            "\n",
            "\n",
            "Iteration 23\n",
            "Vector x22:\n"
          ]
        },
        {
          "output_type": "display_data",
          "data": {
            "text/plain": [
              "<IPython.core.display.Math object>"
            ],
            "text/latex": "$\\displaystyle \\begin{bmatrix}0.9986659245013769\\\\1.0\\\\\\end{bmatrix}$"
          },
          "metadata": {}
        },
        {
          "output_type": "stream",
          "name": "stdout",
          "text": [
            "\n",
            "Ax22 (Matrix*Vector):\n"
          ]
        },
        {
          "output_type": "display_data",
          "data": {
            "text/plain": [
              "<IPython.core.display.Math object>"
            ],
            "text/latex": "$\\displaystyle \\begin{bmatrix}2.9933296225068844\\\\2.9906614715096387\\\\\\end{bmatrix}$"
          },
          "metadata": {}
        },
        {
          "output_type": "stream",
          "name": "stdout",
          "text": [
            "\n",
            "y23 (Normalized vector):\n"
          ]
        },
        {
          "output_type": "display_data",
          "data": {
            "text/plain": [
              "<IPython.core.display.Math object>"
            ],
            "text/latex": "$\\displaystyle \\begin{bmatrix}1.0\\\\0.9991086344192822\\\\\\end{bmatrix}$"
          },
          "metadata": {}
        },
        {
          "output_type": "stream",
          "name": "stdout",
          "text": [
            "\n",
            "d: 2.9933296225068844\n",
            "\n",
            "\n",
            "Iteration 24\n",
            "Vector x23:\n"
          ]
        },
        {
          "output_type": "display_data",
          "data": {
            "text/plain": [
              "<IPython.core.display.Math object>"
            ],
            "text/latex": "$\\displaystyle \\begin{bmatrix}1.0\\\\0.9991086344192822\\\\\\end{bmatrix}$"
          },
          "metadata": {}
        },
        {
          "output_type": "stream",
          "name": "stdout",
          "text": [
            "\n",
            "Ax23 (Matrix*Vector):\n"
          ]
        },
        {
          "output_type": "display_data",
          "data": {
            "text/plain": [
              "<IPython.core.display.Math object>"
            ],
            "text/latex": "$\\displaystyle \\begin{bmatrix}3.001782731161436\\\\3.003565462322871\\\\\\end{bmatrix}$"
          },
          "metadata": {}
        },
        {
          "output_type": "stream",
          "name": "stdout",
          "text": [
            "\n",
            "y24 (Normalized vector):\n"
          ]
        },
        {
          "output_type": "display_data",
          "data": {
            "text/plain": [
              "<IPython.core.display.Math object>"
            ],
            "text/latex": "$\\displaystyle \\begin{bmatrix}0.9994064616923459\\\\1.0\\\\\\end{bmatrix}$"
          },
          "metadata": {}
        },
        {
          "output_type": "stream",
          "name": "stdout",
          "text": [
            "\n",
            "d: 3.003565462322871\n",
            "\n",
            "\n",
            "Iteration 25\n",
            "Vector x24:\n"
          ]
        },
        {
          "output_type": "display_data",
          "data": {
            "text/plain": [
              "<IPython.core.display.Math object>"
            ],
            "text/latex": "$\\displaystyle \\begin{bmatrix}0.9994064616923459\\\\1.0\\\\\\end{bmatrix}$"
          },
          "metadata": {}
        },
        {
          "output_type": "stream",
          "name": "stdout",
          "text": [
            "\n",
            "Ax24 (Matrix*Vector):\n"
          ]
        },
        {
          "output_type": "display_data",
          "data": {
            "text/plain": [
              "<IPython.core.display.Math object>"
            ],
            "text/latex": "$\\displaystyle \\begin{bmatrix}2.99703230846173\\\\2.9958452318464213\\\\\\end{bmatrix}$"
          },
          "metadata": {}
        },
        {
          "output_type": "stream",
          "name": "stdout",
          "text": [
            "\n",
            "y25 (Normalized vector):\n"
          ]
        },
        {
          "output_type": "display_data",
          "data": {
            "text/plain": [
              "<IPython.core.display.Math object>"
            ],
            "text/latex": "$\\displaystyle \\begin{bmatrix}1.0\\\\0.9996039159764954\\\\\\end{bmatrix}$"
          },
          "metadata": {}
        },
        {
          "output_type": "stream",
          "name": "stdout",
          "text": [
            "\n",
            "d: 2.99703230846173\n",
            "\n",
            "\n",
            "Iteration 26\n",
            "Vector x25:\n"
          ]
        },
        {
          "output_type": "display_data",
          "data": {
            "text/plain": [
              "<IPython.core.display.Math object>"
            ],
            "text/latex": "$\\displaystyle \\begin{bmatrix}1.0\\\\0.9996039159764954\\\\\\end{bmatrix}$"
          },
          "metadata": {}
        },
        {
          "output_type": "stream",
          "name": "stdout",
          "text": [
            "\n",
            "Ax25 (Matrix*Vector):\n"
          ]
        },
        {
          "output_type": "display_data",
          "data": {
            "text/plain": [
              "<IPython.core.display.Math object>"
            ],
            "text/latex": "$\\displaystyle \\begin{bmatrix}3.000792168047009\\\\3.001584336094018\\\\\\end{bmatrix}$"
          },
          "metadata": {}
        },
        {
          "output_type": "stream",
          "name": "stdout",
          "text": [
            "\n",
            "y26 (Normalized vector):\n"
          ]
        },
        {
          "output_type": "display_data",
          "data": {
            "text/plain": [
              "<IPython.core.display.Math object>"
            ],
            "text/latex": "$\\displaystyle \\begin{bmatrix}0.9997360833618821\\\\1.0\\\\\\end{bmatrix}$"
          },
          "metadata": {}
        },
        {
          "output_type": "stream",
          "name": "stdout",
          "text": [
            "\n",
            "d: 3.001584336094018\n",
            "\n",
            "\n",
            "Iteration 27\n",
            "Vector x26:\n"
          ]
        },
        {
          "output_type": "display_data",
          "data": {
            "text/plain": [
              "<IPython.core.display.Math object>"
            ],
            "text/latex": "$\\displaystyle \\begin{bmatrix}0.9997360833618821\\\\1.0\\\\\\end{bmatrix}$"
          },
          "metadata": {}
        },
        {
          "output_type": "stream",
          "name": "stdout",
          "text": [
            "\n",
            "Ax26 (Matrix*Vector):\n"
          ]
        },
        {
          "output_type": "display_data",
          "data": {
            "text/plain": [
              "<IPython.core.display.Math object>"
            ],
            "text/latex": "$\\displaystyle \\begin{bmatrix}2.9986804168094108\\\\2.998152583533175\\\\\\end{bmatrix}$"
          },
          "metadata": {}
        },
        {
          "output_type": "stream",
          "name": "stdout",
          "text": [
            "\n",
            "y27 (Normalized vector):\n"
          ]
        },
        {
          "output_type": "display_data",
          "data": {
            "text/plain": [
              "<IPython.core.display.Math object>"
            ],
            "text/latex": "$\\displaystyle \\begin{bmatrix}1.0\\\\0.9998239781494296\\\\\\end{bmatrix}$"
          },
          "metadata": {}
        },
        {
          "output_type": "stream",
          "name": "stdout",
          "text": [
            "\n",
            "d: 2.9986804168094108\n",
            "\n",
            "\n",
            "Iteration 28\n",
            "Vector x27:\n"
          ]
        },
        {
          "output_type": "display_data",
          "data": {
            "text/plain": [
              "<IPython.core.display.Math object>"
            ],
            "text/latex": "$\\displaystyle \\begin{bmatrix}1.0\\\\0.9998239781494296\\\\\\end{bmatrix}$"
          },
          "metadata": {}
        },
        {
          "output_type": "stream",
          "name": "stdout",
          "text": [
            "\n",
            "Ax27 (Matrix*Vector):\n"
          ]
        },
        {
          "output_type": "display_data",
          "data": {
            "text/plain": [
              "<IPython.core.display.Math object>"
            ],
            "text/latex": "$\\displaystyle \\begin{bmatrix}3.000352043701141\\\\3.0007040874022817\\\\\\end{bmatrix}$"
          },
          "metadata": {}
        },
        {
          "output_type": "stream",
          "name": "stdout",
          "text": [
            "\n",
            "y28 (Normalized vector):\n"
          ]
        },
        {
          "output_type": "display_data",
          "data": {
            "text/plain": [
              "<IPython.core.display.Math object>"
            ],
            "text/latex": "$\\displaystyle \\begin{bmatrix}0.999882679634217\\\\1.0\\\\\\end{bmatrix}$"
          },
          "metadata": {}
        },
        {
          "output_type": "stream",
          "name": "stdout",
          "text": [
            "\n",
            "d: 3.0007040874022817\n",
            "\n",
            "\n",
            "Nilai eigen terbesar λ: 3.0007040874022817 ≅ 3\n",
            "Vektor eigen:\n"
          ]
        },
        {
          "output_type": "display_data",
          "data": {
            "text/plain": [
              "<IPython.core.display.Math object>"
            ],
            "text/latex": "$\\displaystyle \\begin{bmatrix}0.999882679634217\\\\1.0\\\\\\end{bmatrix}$"
          },
          "metadata": {}
        }
      ],
      "source": [
        "import numpy as np\n",
        "from IPython.display import display, Math\n",
        "\n",
        "def print_display(array):\n",
        "    matrix = ''\n",
        "    for row in array:\n",
        "        try:\n",
        "            for number in row:\n",
        "                matrix += f'{number}&'\n",
        "        except TypeError:\n",
        "            matrix += f'{row}&'\n",
        "        matrix = matrix[:-1] + r'\\\\'\n",
        "    display(Math(r'\\begin{bmatrix}'+matrix+r'\\end{bmatrix}'))\n",
        "\n",
        "def power_iteration(matrix, vector, num_iterations):\n",
        "    for i in range(num_iterations):\n",
        "        print(\"Iteration\", i + 1)\n",
        "        print(f\"Vector x{i}:\")       # Vektor\n",
        "        print_display(vector)\n",
        "        print()\n",
        "\n",
        "        # Mengalikan matriks dengan vektor\n",
        "        vector = np.dot(matrix, vector)\n",
        "        print(f\"Ax{i} (Matrix*Vector):\")    # Perkalian dot matriks dengan vektor\n",
        "        print_display(vector)\n",
        "        print()\n",
        "\n",
        "        # Normalisasi vektor\n",
        "        factor_norm = abs(vector).max()\n",
        "        vector = vector / factor_norm\n",
        "\n",
        "        print(f\"y{i+1} (Normalized vector):\")\n",
        "        print_display(vector)     # Eigenvector iterasi ke i\n",
        "        print()\n",
        "\n",
        "        print(\"d:\", factor_norm)      # Eigenvalue approximation\n",
        "        print()\n",
        "        print()\n",
        "    return factor_norm, vector\n",
        "\n",
        "\n",
        "# Input kolom dan baris\n",
        "\n",
        "rows = int(input(\"Enter the number of rows:\"))\n",
        "column = int(input(\"Enter the number of columns:\"))\n",
        "\n",
        "# Inisialisasi matrix awal\n",
        "matrix = []\n",
        "print(\"Enter the matrix entries rowwise:\")\n",
        "for i in range(rows):\n",
        "    a =[]\n",
        "    for j in range(column):\n",
        "         a.append(int(input()))\n",
        "    matrix.append(a)\n",
        "\n",
        "# Inisialisasi x0 awal\n",
        "x0 = []\n",
        "print(\"Enter the x0 entries rowwise:\")\n",
        "for i in range(rows):\n",
        "  x0.append(int(input()))\n",
        "\n",
        "# Inisialisasi jumlah iterasi\n",
        "n = int(input(\"Enter how many iteration:\"))\n",
        "\n",
        "# Print matrix\n",
        "print(\"Matriks:\\n\")\n",
        "print_display(matrix)\n",
        "print()\n",
        "\n",
        "# # Print x0\n",
        "print(\"x0:\\n\")\n",
        "print_display(x0)\n",
        "print()\n",
        "\n",
        "\n",
        "# Menjalankan metode power iteration\n",
        "eigen_value, eigen_vector = power_iteration(matrix, x0, n)\n",
        "\n",
        "print(\"Nilai eigen terbesar λ:\", eigen_value, \"≅\", round(eigen_value))\n",
        "print(\"Vektor eigen:\")\n",
        "print_display(eigen_vector)"
      ]
    }
  ]
}